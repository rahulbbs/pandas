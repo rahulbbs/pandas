{
 "cells": [
  {
   "cell_type": "markdown",
   "id": "ea3b2a42",
   "metadata": {},
   "source": [
    "1. Write a Pandas program to create a Pivot table with multiple indexes from a given excel sheet (Salesdata.xlsx)."
   ]
  },
  {
   "cell_type": "code",
   "execution_count": null,
   "id": "746d0a0a",
   "metadata": {},
   "outputs": [],
   "source": []
  },
  {
   "cell_type": "markdown",
   "id": "2ee27d75",
   "metadata": {},
   "source": [
    "2. Write a Pandas program to create a Pivot table and find the total sale amount region wise, manager wise. \n"
   ]
  },
  {
   "cell_type": "code",
   "execution_count": null,
   "id": "8f7e14eb",
   "metadata": {},
   "outputs": [],
   "source": []
  },
  {
   "cell_type": "markdown",
   "id": "d5de6547",
   "metadata": {},
   "source": [
    "3. Write a Pandas program to create a Pivot table and find the total sale amount region wise, manager wise, sales man wise. \n"
   ]
  },
  {
   "cell_type": "code",
   "execution_count": null,
   "id": "3cc1d19d",
   "metadata": {},
   "outputs": [],
   "source": []
  },
  {
   "cell_type": "markdown",
   "id": "1886dc9a",
   "metadata": {},
   "source": [
    "4. Write a Pandas program to create a Pivot table and find the item wise unit sold. \n"
   ]
  },
  {
   "cell_type": "code",
   "execution_count": null,
   "id": "0fac19ab",
   "metadata": {},
   "outputs": [],
   "source": []
  },
  {
   "cell_type": "markdown",
   "id": "5686312a",
   "metadata": {},
   "source": [
    "5. Write a Pandas program to create a Pivot table and find the region wise total sale. \n"
   ]
  },
  {
   "cell_type": "code",
   "execution_count": null,
   "id": "84f3b2d1",
   "metadata": {},
   "outputs": [],
   "source": []
  },
  {
   "cell_type": "markdown",
   "id": "d701db86",
   "metadata": {},
   "source": [
    "6. Write a Pandas program to create a Pivot table and find the region wise, item wise unit sold. \n"
   ]
  },
  {
   "cell_type": "code",
   "execution_count": null,
   "id": "c914559c",
   "metadata": {},
   "outputs": [],
   "source": []
  },
  {
   "cell_type": "markdown",
   "id": "28b094d8",
   "metadata": {},
   "source": [
    "7. Write a Pandas program to create a Pivot table and count the manager wise sale and mean value of sale amount. \n"
   ]
  },
  {
   "cell_type": "code",
   "execution_count": null,
   "id": "c4a0242a",
   "metadata": {},
   "outputs": [],
   "source": []
  },
  {
   "cell_type": "markdown",
   "id": "1d9f1384",
   "metadata": {},
   "source": [
    "8. Write a Pandas program to create a Pivot table and find manager wise, salesman wise total sale and also display the sum of all sale amount at the bottom. \n"
   ]
  },
  {
   "cell_type": "code",
   "execution_count": null,
   "id": "397e5727",
   "metadata": {},
   "outputs": [],
   "source": []
  },
  {
   "cell_type": "markdown",
   "id": "487fd71a",
   "metadata": {},
   "source": [
    "9. Write a Pandas program to create a Pivot table and find the total sale amount region wise, manager wise, sales man wise where Manager = \"Douglas\". \n"
   ]
  },
  {
   "cell_type": "code",
   "execution_count": null,
   "id": "9d44eec6",
   "metadata": {},
   "outputs": [],
   "source": []
  },
  {
   "cell_type": "markdown",
   "id": "297ead26",
   "metadata": {},
   "source": [
    "10. Write a Pandas program to create a Pivot table and find the region wise Television and Home Theater sold. \n"
   ]
  },
  {
   "cell_type": "code",
   "execution_count": null,
   "id": "737e1fd2",
   "metadata": {},
   "outputs": [],
   "source": []
  },
  {
   "cell_type": "markdown",
   "id": "c515ef95",
   "metadata": {},
   "source": [
    "11. Write a Pandas program to create a Pivot table and find the maximum sale value of the items. \n"
   ]
  },
  {
   "cell_type": "code",
   "execution_count": null,
   "id": "4cae4e87",
   "metadata": {},
   "outputs": [],
   "source": []
  },
  {
   "cell_type": "markdown",
   "id": "c49856d7",
   "metadata": {},
   "source": [
    "12. Write a Pandas program to create a Pivot table and find the minimum sale value of the items. \n"
   ]
  },
  {
   "cell_type": "code",
   "execution_count": null,
   "id": "53618d48",
   "metadata": {},
   "outputs": [],
   "source": []
  },
  {
   "cell_type": "markdown",
   "id": "c250e211",
   "metadata": {},
   "source": [
    "13.Write a Pandas program to create a Pivot table and find the maximum and minimum sale value of the items. "
   ]
  },
  {
   "cell_type": "code",
   "execution_count": null,
   "id": "f47184b8",
   "metadata": {},
   "outputs": [],
   "source": []
  }
 ],
 "metadata": {
  "kernelspec": {
   "display_name": "Python 3 (ipykernel)",
   "language": "python",
   "name": "python3"
  },
  "language_info": {
   "codemirror_mode": {
    "name": "ipython",
    "version": 3
   },
   "file_extension": ".py",
   "mimetype": "text/x-python",
   "name": "python",
   "nbconvert_exporter": "python",
   "pygments_lexer": "ipython3",
   "version": "3.9.12"
  }
 },
 "nbformat": 4,
 "nbformat_minor": 5
}
