{
 "cells": [
  {
   "cell_type": "markdown",
   "id": "25517e49",
   "metadata": {},
   "source": [
    "# PANDA SERIES"
   ]
  },
  {
   "cell_type": "raw",
   "id": "a84f7a04",
   "metadata": {},
   "source": [
    "#Series is a one dimensional labeled array capable of holding data of any type (integer,float,python object).\n",
    "The axis labeled are aollectivety called as index\n",
    "# syntax :pd.series(data,index,dtype,copy)"
   ]
  },
  {
   "cell_type": "code",
   "execution_count": 5,
   "id": "c639e11d",
   "metadata": {},
   "outputs": [],
   "source": [
    "import numpy as np\n",
    "import pandas as pd"
   ]
  },
  {
   "cell_type": "code",
   "execution_count": 6,
   "id": "5ca1b2b8",
   "metadata": {},
   "outputs": [
    {
     "name": "stdout",
     "output_type": "stream",
     "text": [
      "0    1\n",
      "1    2\n",
      "2    3\n",
      "3    4\n",
      "4    5\n",
      "dtype: int64\n",
      "0    a\n",
      "1    b\n",
      "2    c\n",
      "3    d\n",
      "4    e\n",
      "dtype: object\n"
     ]
    }
   ],
   "source": [
    "a1 =pd.Series([1,2,3,4,5])\n",
    "print(a1)\n",
    "a2 =pd.Series(['a','b','c','d','e'])\n",
    "print(a2)"
   ]
  },
  {
   "cell_type": "code",
   "execution_count": 7,
   "id": "7321a9a6",
   "metadata": {},
   "outputs": [
    {
     "name": "stdout",
     "output_type": "stream",
     "text": [
      "Akash    1\n",
      "Rahul    2\n",
      "Guru     3\n",
      "dtype: int64\n"
     ]
    }
   ],
   "source": [
    "marks=pd.Series([1,2,3],['Akash','Rahul','Guru'])\n",
    "print(marks)"
   ]
  },
  {
   "cell_type": "code",
   "execution_count": null,
   "id": "1837f55d",
   "metadata": {},
   "outputs": [],
   "source": []
  }
 ],
 "metadata": {
  "kernelspec": {
   "display_name": "Python 3 (ipykernel)",
   "language": "python",
   "name": "python3"
  },
  "language_info": {
   "codemirror_mode": {
    "name": "ipython",
    "version": 3
   },
   "file_extension": ".py",
   "mimetype": "text/x-python",
   "name": "python",
   "nbconvert_exporter": "python",
   "pygments_lexer": "ipython3",
   "version": "3.9.12"
  }
 },
 "nbformat": 4,
 "nbformat_minor": 5
}
